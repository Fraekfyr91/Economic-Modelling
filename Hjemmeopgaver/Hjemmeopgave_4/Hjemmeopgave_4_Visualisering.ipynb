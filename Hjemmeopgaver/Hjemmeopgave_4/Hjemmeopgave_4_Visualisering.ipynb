{
 "cells": [
  {
   "cell_type": "code",
   "execution_count": 1,
   "id": "22771b08-78a3-4959-859c-406cb7185794",
   "metadata": {},
   "outputs": [],
   "source": [
    "import pandas as pd\n",
    "import matplotlib.pyplot as plt\n",
    "#import Gams_func\n",
    "import numpy as np\n",
    "df1 = pd.read_excel ('model1.xlsx',index_col = 0, sheet_name='ARK_navn')\n",
    "df2 = pd.read_excel ('model1.xlsx', index_col = 0, sheet_name='ARK_navn2')\n",
    "df3 = pd.read_excel ('model1.xlsx', index_col = 0, sheet_name='ARK_navn3')\n",
    "df4 = pd.read_excel ('model1.xlsx', index_col = 0, sheet_name='ARK_navn4')\n",
    "df5 = pd.read_excel ('model1.xlsx', index_col = 0, sheet_name='ARK_navn5')\n",
    "\n",
    "df6 = pd.read_excel ('model2.xlsx', index_col = 0, sheet_name='ARK_navn')\n",
    "df7 = pd.read_excel ('model2.xlsx', index_col = 0, sheet_name='ARK_navn2')\n",
    "df8 = pd.read_excel ('model2.xlsx', index_col = 0, sheet_name='ARK_navn3')\n",
    "df9 = pd.read_excel ('model2.xlsx', index_col = 0, sheet_name='ARK_navn4')\n",
    "\n",
    "df10 = pd.read_excel ('model2.xlsx', index_col = 0, sheet_name='ARK_navn5')\n",
    "df11 = pd.read_excel ('model2.xlsx', index_col = 0, sheet_name='ARK_navn6')\n",
    "df12 = pd.read_excel ('model2.xlsx', index_col = 0, sheet_name='ARK_navn7')"
   ]
  },
  {
   "cell_type": "markdown",
   "id": "aec7ab9a",
   "metadata": {},
   "source": [
    "Create Tables for t=99"
   ]
  },
  {
   "cell_type": "code",
   "execution_count": 2,
   "id": "6d16e091",
   "metadata": {},
   "outputs": [
    {
     "data": {
      "text/html": [
       "<div>\n",
       "<style scoped>\n",
       "    .dataframe tbody tr th:only-of-type {\n",
       "        vertical-align: middle;\n",
       "    }\n",
       "\n",
       "    .dataframe tbody tr th {\n",
       "        vertical-align: top;\n",
       "    }\n",
       "\n",
       "    .dataframe thead th {\n",
       "        text-align: right;\n",
       "    }\n",
       "</style>\n",
       "<table border=\"1\" class=\"dataframe\">\n",
       "  <thead>\n",
       "    <tr style=\"text-align: right;\">\n",
       "      <th></th>\n",
       "      <th>C</th>\n",
       "      <th>I</th>\n",
       "      <th>K</th>\n",
       "      <th>Y</th>\n",
       "      <th>L</th>\n",
       "      <th>V</th>\n",
       "      <th>w</th>\n",
       "    </tr>\n",
       "  </thead>\n",
       "  <tbody>\n",
       "    <tr>\n",
       "      <th>base</th>\n",
       "      <td>800.000000</td>\n",
       "      <td>200.000000</td>\n",
       "      <td>3400.000000</td>\n",
       "      <td>1000.000000</td>\n",
       "      <td>700</td>\n",
       "      <td>3400.000000</td>\n",
       "      <td>1.000000</td>\n",
       "    </tr>\n",
       "    <tr>\n",
       "      <th>shock1</th>\n",
       "      <td>879.986093</td>\n",
       "      <td>220.012714</td>\n",
       "      <td>3739.999999</td>\n",
       "      <td>1099.998808</td>\n",
       "      <td>700</td>\n",
       "      <td>3739.527182</td>\n",
       "      <td>1.099998</td>\n",
       "    </tr>\n",
       "    <tr>\n",
       "      <th>shock2</th>\n",
       "      <td>879.974536</td>\n",
       "      <td>220.023281</td>\n",
       "      <td>3740.000000</td>\n",
       "      <td>1099.997817</td>\n",
       "      <td>700</td>\n",
       "      <td>3739.134239</td>\n",
       "      <td>1.099997</td>\n",
       "    </tr>\n",
       "  </tbody>\n",
       "</table>\n",
       "</div>"
      ],
      "text/plain": [
       "                 C           I            K            Y    L            V  \\\n",
       "base    800.000000  200.000000  3400.000000  1000.000000  700  3400.000000   \n",
       "shock1  879.986093  220.012714  3739.999999  1099.998808  700  3739.527182   \n",
       "shock2  879.974536  220.023281  3740.000000  1099.997817  700  3739.134239   \n",
       "\n",
       "               w  \n",
       "base    1.000000  \n",
       "shock1  1.099998  \n",
       "shock2  1.099997  "
      ]
     },
     "execution_count": 2,
     "metadata": {},
     "output_type": "execute_result"
    }
   ],
   "source": [
    "end1 = df1.loc[df1.index == 't99']\n",
    "end2 = df2.loc[df2.index == 't99']\n",
    "end3 = df3.loc[df3.index == 't99']\n",
    "\n",
    "new = pd.concat([end1, end2,end3])\n",
    "new.index = ['base','shock1', 'shock2']\n",
    "new[['C', 'I', 'K', 'Y', 'L','V', 'w']]"
   ]
  },
  {
   "cell_type": "markdown",
   "id": "da8a3b74-b45d-48fa-b238-c8adc95ec5ba",
   "metadata": {},
   "source": [
    "Da økonomien er lukket må det gælde $formue = kapital$ dermed illustreres formue forneded ved kapitalens udvikling "
   ]
  },
  {
   "cell_type": "markdown",
   "id": "f22e4d38",
   "metadata": {},
   "source": [
    "shock1 (df2) forkommer i t=1\n",
    "\n",
    "shock2 (df3) forekommer i t=5"
   ]
  },
  {
   "cell_type": "code",
   "execution_count": 3,
   "id": "e7473af8",
   "metadata": {
    "scrolled": true
   },
   "outputs": [
    {
     "data": {
      "image/png": "[encoded data removed]",
      "text/plain": [
       "<Figure size 432x288 with 1 Axes>"
      ]
     },
     "metadata": {
      "needs_background": "light"
     },
     "output_type": "display_data"
    }
   ],
   "source": [
    "df2[['C', 'I', 'K', 'Y', 'L','V', 'w']].pct_change().plot();"
   ]
  },
  {
   "cell_type": "code",
   "execution_count": 4,
   "id": "2bb18466",
   "metadata": {
    "scrolled": true
   },
   "outputs": [
    {
     "data": {
      "image/png": "[encoded data removed]",
      "text/plain": [
       "<Figure size 432x288 with 1 Axes>"
      ]
     },
     "metadata": {
      "needs_background": "light"
     },
     "output_type": "display_data"
    }
   ],
   "source": [
    "df3[['C', 'I', 'K', 'Y', 'L','V', 'w']].pct_change().plot();"
   ]
  },
  {
   "cell_type": "code",
   "execution_count": 5,
   "id": "1556eacd",
   "metadata": {},
   "outputs": [
    {
     "data": {
      "image/png": "[encoded data removed]",
      "text/plain": [
       "<Figure size 432x288 with 1 Axes>"
      ]
     },
     "metadata": {
      "needs_background": "light"
     },
     "output_type": "display_data"
    }
   ],
   "source": [
    "df4[['C', 'I', 'K', 'Y', 'L','V', 'w']].pct_change().plot();"
   ]
  },
  {
   "cell_type": "code",
   "execution_count": 6,
   "id": "09f2a841",
   "metadata": {},
   "outputs": [
    {
     "data": {
      "image/png": "[encoded data removed]",
      "text/plain": [
       "<Figure size 432x288 with 1 Axes>"
      ]
     },
     "metadata": {
      "needs_background": "light"
     },
     "output_type": "display_data"
    }
   ],
   "source": [
    "df5[['C', 'I', 'K', 'Y', 'L','V', 'w']].pct_change().plot();"
   ]
  },
  {
   "cell_type": "code",
   "execution_count": 7,
   "id": "752ede6b",
   "metadata": {},
   "outputs": [
    {
     "name": "stdout",
     "output_type": "stream",
     "text": [
      "5\n"
     ]
    }
   ],
   "source": [
    "\n",
    "diff_s1=df2.K-df1.K\n",
    "diff_s2=df3.K-df1.K\n",
    "diff_b = df1.K-df1.K\n",
    "\n",
    "s =0\n",
    "for i in diff_s2:\n",
    "    s+=1\n",
    "    if i == min(diff_s2):\n",
    "        break\n",
    "print(s)\n"
   ]
  },
  {
   "cell_type": "code",
   "execution_count": 8,
   "id": "3273fb4b",
   "metadata": {},
   "outputs": [
    {
     "data": {
      "image/png": "[encoded data removed]",
      "text/plain": [
       "<Figure size 432x288 with 1 Axes>"
      ]
     },
     "metadata": {
      "needs_background": "light"
     },
     "output_type": "display_data"
    }
   ],
   "source": [
    "\n",
    "plt.axhline(y=0, color='red', linestyle='--')\n",
    "plt.plot(diff_s1, label= 'shock 1, produktivitets stigning t=1')\n",
    "plt.plot(diff_s2, label= 'shock 2, produktivitets stigning t=5')\n",
    "\n",
    "plt.axhline(y=0, color='red', linestyle='--', label = 'baseline')\n",
    "plt.axhline(y=max(diff_s1), color='blue', linestyle='--')\n",
    "plt.text(-3,max(diff_s1)-20, f'Konvergens til: {round(max(diff_s1))}')\n",
    "plt.title('Formue udvikling')\n",
    "plt.xticks(ticks= diff_s1.index[0::5])\n",
    "plt.legend()\n",
    "plt.xticks(rotation=90)\n",
    "plt.show()"
   ]
  },
  {
   "cell_type": "code",
   "execution_count": 9,
   "id": "3310eba1-069e-45a7-9452-f1efbc780db0",
   "metadata": {},
   "outputs": [
    {
     "data": {
      "image/png": "[encoded data removed]",
      "text/plain": [
       "<Figure size 432x288 with 1 Axes>"
      ]
     },
     "metadata": {
      "needs_background": "light"
     },
     "output_type": "display_data"
    }
   ],
   "source": [
    "diff_s3=df3.K-df1.K\n",
    "plt.axhline(y=0, color='red', linestyle='--')\n",
    "plt.plot(diff_s3, label= 'shock 3, Tsunami-stød')\n",
    "\n",
    "\n",
    "plt.axhline(y=0, color='red', linestyle='--', label = 'baseline')\n",
    "plt.title('Formue udvikling')\n",
    "plt.xticks(ticks= diff_s1.index[0::5])\n",
    "plt.legend()\n",
    "plt.xticks(rotation=90)\n",
    "plt.show()"
   ]
  },
  {
   "cell_type": "code",
   "execution_count": 10,
   "id": "9e30a889",
   "metadata": {},
   "outputs": [
    {
     "data": {
      "image/png": "[encoded data removed]",
      "text/plain": [
       "<Figure size 432x288 with 1 Axes>"
      ]
     },
     "metadata": {
      "needs_background": "light"
     },
     "output_type": "display_data"
    }
   ],
   "source": [
    "\n",
    "diff_s4=df5.K-df1.K\n",
    "plt.axhline(y=0, color='red', linestyle='--')\n",
    "plt.plot(diff_s4, label= 'shock 3, Tsunami-stød')\n",
    "\n",
    "plt.axhline(y=max(diff_s4), color='blue', linestyle='--')\n",
    "plt.text(-3,max(diff_s4)-10, f'Konvergens til: {round(max(diff_s4))}')\n",
    "\n",
    "\n",
    "plt.axhline(y=0, color='red', linestyle='--', label = 'baseline')\n",
    "plt.title('Formue udvikling')\n",
    "plt.xticks(ticks= diff_s1.index[0::5])\n",
    "plt.legend()\n",
    "plt.xticks(rotation=90)\n",
    "plt.show()\n"
   ]
  },
  {
   "cell_type": "markdown",
   "id": "90aed75b",
   "metadata": {},
   "source": [
    "# hjemmeopgave 4.2a"
   ]
  },
  {
   "cell_type": "code",
   "execution_count": 11,
   "id": "a92dfedd",
   "metadata": {},
   "outputs": [
    {
     "name": "stdout",
     "output_type": "stream",
     "text": [
      "\\begin{tabular}{lrrrrr}\n",
      "\\toprule\n",
      "{} &        1 &        2 &        3 &        4 &        5 \\\\\n",
      "\\midrule\n",
      "Y     &   300.00 &   300.00 &   300.00 &   300.00 &   300.00 \\\\\n",
      "L     &   200.00 &   200.00 &   200.00 &   200.00 &   200.00 \\\\\n",
      "M     &   100.00 &   100.00 &   100.00 &   100.00 &   100.00 \\\\\n",
      "x     &   100.00 &   100.00 &   100.00 &   100.00 &   100.00 \\\\\n",
      "C     &   200.00 &   200.00 &   200.00 &   200.00 &   200.00 \\\\\n",
      "YD    &  1000.00 &  1000.00 &  1000.00 &  1000.00 &  1000.00 \\\\\n",
      "N     &  1000.00 &  1000.00 &  1000.00 &  1000.00 &  1000.00 \\\\\n",
      "theta &     1.00 &     1.00 &     1.00 &     1.00 &     1.00 \\\\\n",
      "muYL  &     0.67 &     0.67 &     0.67 &     0.67 &     0.67 \\\\\n",
      "muYM  &     0.33 &     0.33 &     0.33 &     0.33 &     0.33 \\\\\n",
      "muX   &     1.00 &     1.00 &     1.00 &     1.00 &     1.00 \\\\\n",
      "w     &     1.00 &     1.00 &     1.00 &     1.00 &     1.00 \\\\\n",
      "p     &     1.00 &     1.00 &     1.00 &     1.00 &     1.00 \\\\\n",
      "pM    &     1.00 &     1.00 &     1.00 &     1.00 &     1.00 \\\\\n",
      "pC    &     1.00 &     1.00 &     1.00 &     1.00 &     1.00 \\\\\n",
      "Ey    &     0.70 &     0.70 &     0.70 &     0.70 &     0.70 \\\\\n",
      "Em    &     0.50 &     0.50 &     0.50 &     0.50 &     0.50 \\\\\n",
      "Ec    &     0.50 &     0.50 &     0.50 &     0.50 &     0.50 \\\\\n",
      "gamma &     0.20 &     0.20 &     0.20 &     0.20 &     0.20 \\\\\n",
      "\\bottomrule\n",
      "\\end{tabular}\n",
      "\n"
     ]
    }
   ],
   "source": [
    "print(df6.round(2).to_latex())"
   ]
  },
  {
   "cell_type": "code",
   "execution_count": 12,
   "id": "45f34510",
   "metadata": {},
   "outputs": [
    {
     "name": "stdout",
     "output_type": "stream",
     "text": [
      "\\begin{tabular}{lrrrrr}\n",
      "\\toprule\n",
      "{} &        1 &        2 &        3 &        4 &        5 \\\\\n",
      "\\midrule\n",
      "Y     &   300.00 &   300.00 &   300.00 &   300.00 &   300.00 \\\\\n",
      "L     &   200.00 &   200.00 &   200.00 &   200.00 &   200.00 \\\\\n",
      "M     &   100.00 &   100.00 &   100.00 &   100.00 &   100.00 \\\\\n",
      "x     &   100.00 &   100.00 &   100.00 &   100.00 &   100.00 \\\\\n",
      "C     &   200.00 &   200.00 &   200.00 &   200.00 &   200.00 \\\\\n",
      "YD    &  1000.00 &  1000.00 &  1000.00 &  1000.00 &  1000.00 \\\\\n",
      "N     &  1000.00 &  1000.00 &  1000.00 &  1000.00 &  1000.00 \\\\\n",
      "theta &     1.00 &     1.00 &     1.00 &     1.00 &     1.00 \\\\\n",
      "muYL  &     0.67 &     0.67 &     0.67 &     0.67 &     0.67 \\\\\n",
      "muYM  &     0.33 &     0.33 &     0.33 &     0.33 &     0.33 \\\\\n",
      "muX   &     1.00 &     1.00 &     1.00 &     1.00 &     1.00 \\\\\n",
      "w     &     1.00 &     1.00 &     1.00 &     1.00 &     1.00 \\\\\n",
      "p     &     1.00 &     1.00 &     1.00 &     1.00 &     1.00 \\\\\n",
      "pM    &     1.00 &     1.00 &     1.00 &     1.00 &     1.00 \\\\\n",
      "pC    &     1.00 &     1.00 &     1.00 &     1.00 &     1.00 \\\\\n",
      "Ey    &     0.70 &     0.70 &     0.70 &     0.70 &     0.70 \\\\\n",
      "Em    &     0.50 &     0.50 &     0.50 &     0.50 &     0.50 \\\\\n",
      "Ec    &     0.50 &     0.50 &     0.50 &     0.50 &     0.50 \\\\\n",
      "gamma &     0.20 &     0.20 &     0.20 &     0.20 &     0.20 \\\\\n",
      "\\bottomrule\n",
      "\\end{tabular}\n",
      "\n"
     ]
    }
   ],
   "source": [
    "print(df6.round(2).to_latex())"
   ]
  },
  {
   "cell_type": "code",
   "execution_count": 13,
   "id": "8354898c",
   "metadata": {},
   "outputs": [],
   "source": [
    "l =(df7.loc['L']/df6.loc['L']-1)*100\n",
    "c = (df7.loc['C']/df6.loc['C']-1)*100\n",
    "y = (df7.loc['Y']/df6.loc['Y']-1)*100\n",
    "x= (df7.loc['x']/df6.loc['x']-1)*100"
   ]
  },
  {
   "cell_type": "code",
   "execution_count": null,
   "id": "c5571188-29c5-43b2-a8db-74caa04641ac",
   "metadata": {},
   "outputs": [],
   "source": []
  },
  {
   "cell_type": "code",
   "execution_count": 16,
   "id": "0df02dc5",
   "metadata": {
    "scrolled": true
   },
   "outputs": [
    {
     "data": {
      "image/png": "[encoded data removed]",
      "text/plain": [
       "<Figure size 432x288 with 1 Axes>"
      ]
     },
     "metadata": {
      "needs_background": "light"
     },
     "output_type": "display_data"
    }
   ],
   "source": [
    "fig, ax = plt.subplots()\n",
    "for s in ['top', 'bottom', 'left', 'right']:\n",
    "    ax.spines[s].set_visible(False)\n",
    "# Declaring the figure or the plot (y, x) or (width, height)\n",
    "#plt.figure(figsize=[15, 10])\n",
    "# Data to be plotted\n",
    "l =(df7.loc['L']/df6.loc['L']-1)*100\n",
    "c = (df7.loc['C']/df6.loc['C']-1)*100\n",
    "y = (df7.loc['Y']/df6.loc['Y']-1)*100\n",
    "x= (df7.loc['x']/df6.loc['x']-1)*100\n",
    "\n",
    "leg = ['L', 'C', 'Y', 'X']\n",
    "# Using numpy to group different data with bars\n",
    "X = np.arange(len(l))\n",
    "\n",
    "# Passing the parameters to the bar function, this is the main function which creates the bar plot\n",
    "# Using X now to align the bars side by side\n",
    "plt.bar(X, l, color = 'black', width = 0.2)\n",
    "plt.bar(X + 0.2, c, color = 'g', width = 0.2)\n",
    "plt.bar(X + 0.4, y, color = 'b', width = 0.2)\n",
    "plt.bar(X + 0.6, x, color = 'y', width = 0.2)\n",
    "# Creating the legend of the bars in the plot\n",
    "plt.legend(leg)\n",
    "# Overiding the x axis with the country names\n",
    "plt.xticks([i + 0.25 for i in range(5)], ['1','2','3','4','5'])\n",
    "# Giving the tilte for the plot\n",
    "plt.hlines(0, -0.5, 5, colors=None, linestyles='solid')\n",
    "plt.xlabel('Sektor')\n",
    "plt.ylabel('%')\n",
    "plt.title('% Ændring fra 0-stød i Arbejdskraft')\n",
    "# Saving the plot as a 'png'\n",
    "#plt.savefig('4BarPlot.png')\n",
    "# Displaying the bar plot\n",
    "plt.show()"
   ]
  },
  {
   "cell_type": "code",
   "execution_count": 17,
   "id": "d38dde07",
   "metadata": {
    "scrolled": true
   },
   "outputs": [
    {
     "name": "stdout",
     "output_type": "stream",
     "text": [
      "\\begin{tabular}{lrrrrr}\n",
      "\\toprule\n",
      "{} &        1 &        2 &        3 &        4 &        5 \\\\\n",
      "\\midrule\n",
      "Y     &   313.55 &   303.77 &   303.77 &   303.77 &   303.77 \\\\\n",
      "L     &   193.48 &   201.63 &   201.63 &   201.63 &   201.63 \\\\\n",
      "M     &   100.86 &   102.15 &   102.15 &   102.15 &   102.15 \\\\\n",
      "x     &   100.88 &   102.16 &   102.16 &   102.16 &   102.16 \\\\\n",
      "C     &   209.03 &   202.51 &   202.51 &   202.51 &   202.51 \\\\\n",
      "YD    &  1000.00 &  1000.00 &  1000.00 &  1000.00 &  1000.00 \\\\\n",
      "N     &  1000.00 &  1000.00 &  1000.00 &  1000.00 &  1000.00 \\\\\n",
      "theta &     1.10 &     1.00 &     1.00 &     1.00 &     1.00 \\\\\n",
      "muYL  &     0.67 &     0.67 &     0.67 &     0.67 &     0.67 \\\\\n",
      "muYM  &     0.33 &     0.33 &     0.33 &     0.33 &     0.33 \\\\\n",
      "muX   &     1.00 &     1.00 &     1.00 &     1.00 &     1.00 \\\\\n",
      "w     &     1.00 &     1.00 &     1.00 &     1.00 &     1.00 \\\\\n",
      "p     &     0.93 &     0.99 &     0.99 &     0.99 &     0.99 \\\\\n",
      "pM    &     0.98 &     0.98 &     0.98 &     0.98 &     0.98 \\\\\n",
      "pC    &     0.98 &     0.98 &     0.98 &     0.98 &     0.98 \\\\\n",
      "Ey    &     0.70 &     0.70 &     0.70 &     0.70 &     0.70 \\\\\n",
      "Em    &     0.50 &     0.50 &     0.50 &     0.50 &     0.50 \\\\\n",
      "Ec    &     0.50 &     0.50 &     0.50 &     0.50 &     0.50 \\\\\n",
      "gamma &     0.20 &     0.20 &     0.20 &     0.20 &     0.20 \\\\\n",
      "\\bottomrule\n",
      "\\end{tabular}\n",
      "\n"
     ]
    }
   ],
   "source": [
    "print(df7.round(2).to_latex())"
   ]
  },
  {
   "cell_type": "code",
   "execution_count": 18,
   "id": "a2e42c25",
   "metadata": {
    "scrolled": true
   },
   "outputs": [
    {
     "name": "stdout",
     "output_type": "stream",
     "text": [
      "\\begin{tabular}{lrrrrr}\n",
      "\\toprule\n",
      "{} &        1 &        2 &        3 &        4 &        5 \\\\\n",
      "\\midrule\n",
      "Y     &   330.03 &   299.94 &   299.94 &   299.94 &   299.94 \\\\\n",
      "L     &   203.65 &   199.09 &   199.09 &   199.09 &   199.09 \\\\\n",
      "M     &   106.16 &   100.86 &   100.86 &   100.86 &   100.86 \\\\\n",
      "x     &   106.18 &   100.87 &   100.87 &   100.87 &   100.87 \\\\\n",
      "C     &   225.49 &   198.65 &   198.65 &   198.65 &   198.65 \\\\\n",
      "YD    &  1000.00 &  1000.00 &  1000.00 &  1000.00 &  1000.00 \\\\\n",
      "N     &  1000.00 &  1000.00 &  1000.00 &  1000.00 &  1000.00 \\\\\n",
      "theta &     1.10 &     1.00 &     1.00 &     1.00 &     1.00 \\\\\n",
      "muYL  &     0.67 &     0.67 &     0.67 &     0.67 &     0.67 \\\\\n",
      "muYM  &     0.33 &     0.33 &     0.33 &     0.33 &     0.33 \\\\\n",
      "muX   &     1.00 &     1.00 &     1.00 &     1.00 &     1.00 \\\\\n",
      "w     &     1.00 &     1.00 &     1.00 &     1.00 &     1.00 \\\\\n",
      "p     &     0.93 &     0.99 &     0.99 &     0.99 &     0.99 \\\\\n",
      "pM    &     0.98 &     0.98 &     0.98 &     0.98 &     0.98 \\\\\n",
      "pC    &     0.98 &     0.98 &     0.98 &     0.98 &     0.98 \\\\\n",
      "Ey    &     0.70 &     0.70 &     0.70 &     0.70 &     0.70 \\\\\n",
      "Em    &     0.50 &     0.50 &     0.50 &     0.50 &     0.50 \\\\\n",
      "Ec    &     2.00 &     2.00 &     2.00 &     2.00 &     2.00 \\\\\n",
      "gamma &     0.20 &     0.20 &     0.20 &     0.20 &     0.20 \\\\\n",
      "\\bottomrule\n",
      "\\end{tabular}\n",
      "\n"
     ]
    }
   ],
   "source": [
    "print(df8.round(2).to_latex())"
   ]
  },
  {
   "cell_type": "code",
   "execution_count": 20,
   "id": "3ba2e3f6",
   "metadata": {},
   "outputs": [
    {
     "data": {
      "image/png": "[encoded data removed]",
      "text/plain": [
       "<Figure size 1080x720 with 1 Axes>"
      ]
     },
     "metadata": {
      "needs_background": "light"
     },
     "output_type": "display_data"
    }
   ],
   "source": [
    "for s in ['top', 'bottom', 'left', 'right']:\n",
    "    ax.spines[s].set_visible(False)\n",
    "# Declaring the figure or the plot (y, x) or (width, height)\n",
    "plt.figure(figsize=[15, 10])\n",
    "# Data to be plotted\n",
    "l =(df8.loc['L']/df6.loc['L']-1)*100\n",
    "c = (df8.loc['C']/df6.loc['C']-1)*100\n",
    "y = (df8.loc['Y']/df6.loc['Y']-1)*100\n",
    "x= (df8.loc['x']/df6.loc['x']-1)*100\n",
    "\n",
    "leg = ['L', 'C', 'Y', 'X']\n",
    "# Using numpy to group different data with bars\n",
    "X = np.arange(len(l))\n",
    "\n",
    "# Passing the parameters to the bar function, this is the main function which creates the bar plot\n",
    "# Using X now to align the bars side by side\n",
    "plt.bar(X, l, color = 'black', width = 0.2)\n",
    "plt.bar(X + 0.2, c, color = 'g', width = 0.2)\n",
    "plt.bar(X + 0.4, y, color = 'b', width = 0.2)\n",
    "plt.bar(X + 0.6, x, color = 'y', width = 0.2)\n",
    "# Creating the legend of the bars in the plot\n",
    "plt.legend(leg)\n",
    "# Overiding the x axis with the country names\n",
    "plt.xticks([i + 0.25 for i in range(5)], ['1','2','3','4','5'])\n",
    "# Giving the tilte for the plot\n",
    "plt.hlines(0, -0.5, 5, colors=None, linestyles='solid')\n",
    "plt.xlabel('Sektor')\n",
    "plt.ylabel('%')\n",
    "plt.title('% Ændring fra 0-stød i Arbejdskraft')\n",
    "# Saving the plot as a 'png'\n",
    "#plt.savefig('4BarPlot.png')\n",
    "# Displaying the bar plot\n",
    "plt.show()"
   ]
  },
  {
   "cell_type": "code",
   "execution_count": 23,
   "id": "fdb6069d",
   "metadata": {},
   "outputs": [
    {
     "name": "stdout",
     "output_type": "stream",
     "text": [
      "\\begin{tabular}{lrrrrr}\n",
      "\\toprule\n",
      "{} &        1 &        2 &        3 &        4 &        5 \\\\\n",
      "\\midrule\n",
      "Y     &   300.00 &   300.00 &   300.00 &   300.00 &   300.00 \\\\\n",
      "L     &   200.00 &   200.00 &   200.00 &   200.00 &   200.00 \\\\\n",
      "M     &   100.00 &   100.00 &   100.00 &   100.00 &   100.00 \\\\\n",
      "x     &   100.00 &   100.00 &   100.00 &   100.00 &   100.00 \\\\\n",
      "C     &   200.00 &   200.00 &   200.00 &   200.00 &   200.00 \\\\\n",
      "YD    &  1000.00 &  1000.00 &  1000.00 &  1000.00 &  1000.00 \\\\\n",
      "N     &  1000.00 &  1000.00 &  1000.00 &  1000.00 &  1000.00 \\\\\n",
      "theta &     1.00 &     1.00 &     1.00 &     1.00 &     1.00 \\\\\n",
      "muYL  &     0.67 &     0.67 &     0.67 &     0.67 &     0.67 \\\\\n",
      "muYM  &     0.33 &     0.33 &     0.33 &     0.33 &     0.33 \\\\\n",
      "muX   &     1.00 &     1.00 &     1.00 &     1.00 &     1.00 \\\\\n",
      "w     &     1.00 &     1.00 &     1.00 &     1.00 &     1.00 \\\\\n",
      "p     &     1.00 &     1.00 &     1.00 &     1.00 &     1.00 \\\\\n",
      "pM    &     1.00 &     1.00 &     1.00 &     1.00 &     1.00 \\\\\n",
      "pC    &     1.00 &     1.00 &     1.00 &     1.00 &     1.00 \\\\\n",
      "Ey    &     0.70 &     0.70 &     0.70 &     0.70 &     0.70 \\\\\n",
      "Em    &     0.50 &     0.50 &     0.50 &     0.50 &     0.50 \\\\\n",
      "Ec    &     0.50 &     0.50 &     0.50 &     0.50 &     0.50 \\\\\n",
      "gamma &     0.20 &     0.20 &     0.20 &     0.20 &     0.20 \\\\\n",
      "\\bottomrule\n",
      "\\end{tabular}\n",
      "\n"
     ]
    }
   ],
   "source": [
    "\n",
    "print(df10.round(2).to_latex())"
   ]
  },
  {
   "cell_type": "code",
   "execution_count": null,
   "id": "f43c064a",
   "metadata": {},
   "outputs": [],
   "source": [
    "for s in ['top', 'bottom', 'left', 'right']:\n",
    "    ax.spines[s].set_visible(False)\n",
    "# Declaring the figure or the plot (y, x) or (width, height)\n",
    "plt.figure(figsize=[15, 10])\n",
    "# Data to be plotted\n",
    "l =(shock1_.loc['L']/base_.loc['L']-1)*100\n",
    "c = (shock1_.loc['C']/base_.loc['C']-1)*100\n",
    "y = (shock1_.loc['Y']/base_.loc['Y']-1)*100\n",
    "x= (shock1_.loc['x']/base_.loc['x']-1)*100\n",
    "\n",
    "leg = ['L', 'C', 'Y', 'X']\n",
    "# Using numpy to group different data with bars\n",
    "X = np.arange(len(l))\n",
    "\n",
    "# Passing the parameters to the bar function, this is the main function which creates the bar plot\n",
    "# Using X now to align the bars side by side\n",
    "plt.bar(X, l, color = 'black', width = 0.2)\n",
    "plt.bar(X + 0.2, c, color = 'g', width = 0.2)\n",
    "plt.bar(X + 0.4, y, color = 'b', width = 0.2)\n",
    "plt.bar(X + 0.6, x, color = 'y', width = 0.2)\n",
    "# Creating the legend of the bars in the plot\n",
    "plt.legend(leg)\n",
    "# Overiding the x axis with the country names\n",
    "plt.xticks([i + 0.25 for i in range(5)], ['1','2','3','4','5'])\n",
    "# Giving the tilte for the plot\n",
    "plt.hlines(0, -0.5, 5, colors=None, linestyles='solid')\n",
    "plt.xlabel('Sektor')\n",
    "plt.ylabel('%')\n",
    "plt.title('% Ændring fra 0-stød i Arbejdskraft')\n",
    "# Saving the plot as a 'png'\n",
    "#plt.savefig('4BarPlot.png')\n",
    "# Displaying the bar plot\n",
    "plt.show()"
   ]
  },
  {
   "cell_type": "code",
   "execution_count": null,
   "id": "cb81f8db",
   "metadata": {},
   "outputs": [],
   "source": [
    "shock2_"
   ]
  },
  {
   "cell_type": "code",
   "execution_count": null,
   "id": "6e4a2622",
   "metadata": {},
   "outputs": [],
   "source": [
    "for s in ['top', 'bottom', 'left', 'right']:\n",
    "    ax.spines[s].set_visible(False)\n",
    "# Declaring the figure or the plot (y, x) or (width, height)\n",
    "plt.figure(figsize=[15, 10])\n",
    "# Data to be plotted\n",
    "l =(shock2_.loc['L']/base_.loc['L']-1)*100\n",
    "c = (shock2_.loc['C']/base_.loc['C']-1)*100\n",
    "y = (shock2_.loc['Y']/base_.loc['Y']-1)*100\n",
    "x= (shock2_.loc['x']/base_.loc['x']-1)*100\n",
    "\n",
    "leg = ['L', 'C', 'Y', 'X']\n",
    "# Using numpy to group different data with bars\n",
    "X = np.arange(len(l))\n",
    "\n",
    "# Passing the parameters to the bar function, this is the main function which creates the bar plot\n",
    "# Using X now to align the bars side by side\n",
    "plt.bar(X, l, color = 'black', width = 0.2)\n",
    "plt.bar(X + 0.2, c, color = 'g', width = 0.2)\n",
    "plt.bar(X + 0.4, y, color = 'b', width = 0.2)\n",
    "plt.bar(X + 0.6, x, color = 'y', width = 0.2)\n",
    "# Creating the legend of the bars in the plot\n",
    "plt.legend(leg)\n",
    "# Overiding the x axis with the country names\n",
    "plt.xticks([i + 0.25 for i in range(5)], ['1','2','3','4','5'])\n",
    "# Giving the tilte for the plot\n",
    "plt.hlines(0, -0.5, 5, colors=None, linestyles='solid')\n",
    "plt.xlabel('Sektor')\n",
    "plt.ylabel('%')\n",
    "plt.title('% Ændring fra 0-stød i Arbejdskraft')\n",
    "# Saving the plot as a 'png'\n",
    "#plt.savefig('4BarPlot.png')\n",
    "# Displaying the bar plot\n",
    "plt.show()"
   ]
  },
  {
   "cell_type": "code",
   "execution_count": null,
   "id": "cb637310",
   "metadata": {},
   "outputs": [],
   "source": [
    "print(shock2_.round(2).to_latex())"
   ]
  },
  {
   "cell_type": "code",
   "execution_count": null,
   "id": "e3ba9077-fb0c-48de-b28a-f2c1172cceb6",
   "metadata": {},
   "outputs": [],
   "source": []
  }
 ],
 "metadata": {
  "kernelspec": {
   "display_name": "Python 3 (ipykernel)",
   "language": "python",
   "name": "python3"
  },
  "language_info": {
   "codemirror_mode": {
    "name": "ipython",
    "version": 3
   },
   "file_extension": ".py",
   "mimetype": "text/x-python",
   "name": "python",
   "nbconvert_exporter": "python",
   "pygments_lexer": "ipython3",
   "version": "3.9.7"
  }
 },
 "nbformat": 4,
 "nbformat_minor": 5
}
